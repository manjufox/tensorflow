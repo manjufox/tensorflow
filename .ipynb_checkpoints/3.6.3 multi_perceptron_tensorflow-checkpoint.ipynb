{
 "cells": [
  {
   "cell_type": "code",
   "execution_count": 15,
   "metadata": {},
   "outputs": [],
   "source": [
    "import numpy as np\n",
    "import tensorflow as tf"
   ]
  },
  {
   "cell_type": "code",
   "execution_count": 16,
   "metadata": {},
   "outputs": [],
   "source": [
    "X = np.array([[0,0],[0,1],[1,0],[1,1]]) \n",
    "Y = np.array([[0],[1],[1],[0]])"
   ]
  },
  {
   "cell_type": "code",
   "execution_count": 17,
   "metadata": {},
   "outputs": [],
   "source": [
    "#入力2次元、出力1次元の多層XORゲート\n",
    "x = tf.placeholder(tf.float32, shape=[None,2])\n",
    "t = tf.placeholder(tf.float32, shape=[None,1])#tは正解データ"
   ]
  },
  {
   "cell_type": "code",
   "execution_count": 18,
   "metadata": {},
   "outputs": [],
   "source": [
    "#隠れ層は2→2の出力\n",
    "W = tf.Variable(tf.truncated_normal([2,2]))#tf.truncated_normal：切断正規分布。tf.zeros()初期化してしまうと誤差逆伝播法で正しく伝播できないことがある。\n",
    "b = tf.Variable(tf.zeros([2]))\n",
    "h = tf.nn.sigmoid(tf.matmul(x,W) + b)"
   ]
  },
  {
   "cell_type": "code",
   "execution_count": 19,
   "metadata": {},
   "outputs": [],
   "source": [
    "#結合層は2→1の出力\n",
    "V = tf.Variable(tf.truncated_normal([2,1]))\n",
    "c = tf.Variable(tf.zeros([1]))\n",
    "y = tf.nn.sigmoid(tf.matmul(h,V) + c)"
   ]
  },
  {
   "cell_type": "code",
   "execution_count": 20,
   "metadata": {},
   "outputs": [],
   "source": [
    "#正解データtと出力yとの誤差を計算\n",
    "cross_entropy = -tf.reduce_sum(t * tf.log(y) + (1 - t) * tf.log(1 - y))"
   ]
  },
  {
   "cell_type": "code",
   "execution_count": 21,
   "metadata": {},
   "outputs": [],
   "source": [
    "#GradientDescentOptimizer:勾配降下法によってcross_entropyを最小化する\n",
    "train_step = tf.train.GradientDescentOptimizer(0.1).minimize(cross_entropy)"
   ]
  },
  {
   "cell_type": "code",
   "execution_count": 22,
   "metadata": {},
   "outputs": [],
   "source": [
    "# y>=0.5かどうかでニューロンが発火するかどうかが決まる\n",
    "correct_prediction = tf.equal(tf.to_float(tf.greater(y,0.5)), t)"
   ]
  },
  {
   "cell_type": "code",
   "execution_count": 23,
   "metadata": {},
   "outputs": [],
   "source": [
    "init = tf.global_variables_initializer()\n",
    "sess = tf.Session()\n",
    "sess.run(init)"
   ]
  },
  {
   "cell_type": "code",
   "execution_count": 24,
   "metadata": {},
   "outputs": [
    {
     "name": "stdout",
     "output_type": "stream",
     "text": [
      "epoch: 0\n",
      "epoch: 1000\n",
      "epoch: 2000\n",
      "epoch: 3000\n"
     ]
    }
   ],
   "source": [
    "for epoch in range(4000):\n",
    "    sess.run(train_step, feed_dict={\n",
    "        x:X,\n",
    "        t:Y\n",
    "    })\n",
    "    if epoch % 1000 == 0:\n",
    "        print(\"epoch:\",epoch)"
   ]
  },
  {
   "cell_type": "code",
   "execution_count": 25,
   "metadata": {},
   "outputs": [],
   "source": [
    "classified = correct_prediction.eval(session=sess, feed_dict={\n",
    "    x:X,\n",
    "    t:Y\n",
    "})\n",
    "prob = y.eval(session=sess, feed_dict={\n",
    "    x:X\n",
    "})"
   ]
  },
  {
   "cell_type": "code",
   "execution_count": 26,
   "metadata": {},
   "outputs": [
    {
     "name": "stdout",
     "output_type": "stream",
     "text": [
      "classified:\n",
      "[[ True]\n",
      " [ True]\n",
      " [False]\n",
      " [False]]\n",
      "\n",
      "output robability:\n",
      "[[ 0.0071138 ]\n",
      " [ 0.99409902]\n",
      " [ 0.49869117]\n",
      " [ 0.50277126]]\n"
     ]
    }
   ],
   "source": [
    "print('classified:')\n",
    "print(classified)\n",
    "print()\n",
    "print('output robability:')\n",
    "print(prob)"
   ]
  },
  {
   "cell_type": "code",
   "execution_count": null,
   "metadata": {},
   "outputs": [],
   "source": []
  }
 ],
 "metadata": {
  "kernelspec": {
   "display_name": "Python 3",
   "language": "python",
   "name": "python3"
  },
  "language_info": {
   "codemirror_mode": {
    "name": "ipython",
    "version": 3
   },
   "file_extension": ".py",
   "mimetype": "text/x-python",
   "name": "python",
   "nbconvert_exporter": "python",
   "pygments_lexer": "ipython3",
   "version": "3.6.3"
  }
 },
 "nbformat": 4,
 "nbformat_minor": 2
}
