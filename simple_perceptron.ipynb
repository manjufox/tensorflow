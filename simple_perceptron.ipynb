{
 "cells": [
  {
   "cell_type": "code",
   "execution_count": 40,
   "metadata": {
    "collapsed": true
   },
   "outputs": [],
   "source": [
    "import numpy as np"
   ]
  },
  {
   "cell_type": "code",
   "execution_count": 41,
   "metadata": {
    "collapsed": true
   },
   "outputs": [],
   "source": [
    "rng = np.random.RandomState(123)"
   ]
  },
  {
   "cell_type": "code",
   "execution_count": 42,
   "metadata": {
    "collapsed": true
   },
   "outputs": [],
   "source": [
    "d = 2 #データの次元\n",
    "N = 10 #各パターンのデータ数\n",
    "mean = 5 #ニューロンが発火するデータの平均値"
   ]
  },
  {
   "cell_type": "code",
   "execution_count": 43,
   "metadata": {},
   "outputs": [
    {
     "data": {
      "text/plain": [
       "array([[-1.0856306 ,  0.99734545],\n",
       "       [ 0.2829785 , -1.50629471],\n",
       "       [-0.57860025,  1.65143654],\n",
       "       [-2.42667924, -0.42891263],\n",
       "       [ 1.26593626, -0.8667404 ],\n",
       "       [-0.67888615, -0.09470897],\n",
       "       [ 1.49138963, -0.638902  ],\n",
       "       [-0.44398196, -0.43435128],\n",
       "       [ 2.20593008,  2.18678609],\n",
       "       [ 1.0040539 ,  0.3861864 ]])"
      ]
     },
     "execution_count": 43,
     "metadata": {},
     "output_type": "execute_result"
    }
   ],
   "source": [
    "x1 = rng.randn(N,d) + np.array([0,0])\n",
    "x1"
   ]
  },
  {
   "cell_type": "code",
   "execution_count": 44,
   "metadata": {},
   "outputs": [
    {
     "data": {
      "text/plain": [
       "array([[ 5.73736858,  6.49073203],\n",
       "       [ 4.06416613,  6.17582904],\n",
       "       [ 3.74611933,  4.3622485 ],\n",
       "       [ 5.9071052 ,  3.5713193 ],\n",
       "       [ 4.85993128,  4.1382451 ],\n",
       "       [ 4.74438063,  2.20141089],\n",
       "       [ 3.2284669 ,  4.30012277],\n",
       "       [ 5.92746243,  4.82636432],\n",
       "       [ 5.00284592,  5.68822271],\n",
       "       [ 4.12046366,  5.28362732]])"
      ]
     },
     "execution_count": 44,
     "metadata": {},
     "output_type": "execute_result"
    }
   ],
   "source": [
    "x2 = rng.randn(N,d) + np.array([mean,mean])\n",
    "x2"
   ]
  },
  {
   "cell_type": "code",
   "execution_count": 45,
   "metadata": {},
   "outputs": [
    {
     "data": {
      "text/plain": [
       "array([[-1.0856306 ,  0.99734545],\n",
       "       [ 0.2829785 , -1.50629471],\n",
       "       [-0.57860025,  1.65143654],\n",
       "       [-2.42667924, -0.42891263],\n",
       "       [ 1.26593626, -0.8667404 ],\n",
       "       [-0.67888615, -0.09470897],\n",
       "       [ 1.49138963, -0.638902  ],\n",
       "       [-0.44398196, -0.43435128],\n",
       "       [ 2.20593008,  2.18678609],\n",
       "       [ 1.0040539 ,  0.3861864 ],\n",
       "       [ 5.73736858,  6.49073203],\n",
       "       [ 4.06416613,  6.17582904],\n",
       "       [ 3.74611933,  4.3622485 ],\n",
       "       [ 5.9071052 ,  3.5713193 ],\n",
       "       [ 4.85993128,  4.1382451 ],\n",
       "       [ 4.74438063,  2.20141089],\n",
       "       [ 3.2284669 ,  4.30012277],\n",
       "       [ 5.92746243,  4.82636432],\n",
       "       [ 5.00284592,  5.68822271],\n",
       "       [ 4.12046366,  5.28362732]])"
      ]
     },
     "execution_count": 45,
     "metadata": {},
     "output_type": "execute_result"
    }
   ],
   "source": [
    "x = np.concatenate((x1,x2), axis=0)\n",
    "x"
   ]
  },
  {
   "cell_type": "code",
   "execution_count": 46,
   "metadata": {},
   "outputs": [
    {
     "data": {
      "image/png": "[encoded data removed]",
      "text/plain": [
       "<matplotlib.figure.Figure at 0xa066668>"
      ]
     },
     "metadata": {},
     "output_type": "display_data"
    }
   ],
   "source": [
    "%matplotlib inline\n",
    "plt.scatter([i[0] for i in x1],[i[1] for i in x1])\n",
    "plt.scatter([i[0] for i in x2],[i[0] for i in x2])\n",
    "plt.show()"
   ]
  },
  {
   "cell_type": "code",
   "execution_count": 47,
   "metadata": {
    "collapsed": true
   },
   "outputs": [],
   "source": [
    "w = np.zeros(d)"
   ]
  },
  {
   "cell_type": "code",
   "execution_count": 48,
   "metadata": {
    "collapsed": true
   },
   "outputs": [],
   "source": [
    "b = 0"
   ]
  },
  {
   "cell_type": "code",
   "execution_count": 49,
   "metadata": {
    "collapsed": true
   },
   "outputs": [],
   "source": [
    "def y(x):\n",
    "    return step(np.dot(w,x) + b)"
   ]
  },
  {
   "cell_type": "code",
   "execution_count": 50,
   "metadata": {
    "collapsed": true
   },
   "outputs": [],
   "source": [
    "def step(x):\n",
    "    return 1 * (x > 0)"
   ]
  },
  {
   "cell_type": "code",
   "execution_count": 51,
   "metadata": {
    "collapsed": true
   },
   "outputs": [],
   "source": [
    "def t(i):\n",
    "    if i < N:\n",
    "        return 0\n",
    "    else:\n",
    "        return 1"
   ]
  },
  {
   "cell_type": "code",
   "execution_count": 52,
   "metadata": {
    "collapsed": true
   },
   "outputs": [],
   "source": [
    "while True:\n",
    "    classified = True\n",
    "    for i in range(N * 2):\n",
    "        delta_w = (t(i) - y(x[i])) * x[i]\n",
    "        delta_b = (t(i) - y(x[i]))\n",
    "        w += delta_w\n",
    "        b += delta_b\n",
    "        classified *= all(delta_w == 0) * (delta_b == 0)\n",
    "    if classified:\n",
    "        break"
   ]
  },
  {
   "cell_type": "code",
   "execution_count": 53,
   "metadata": {},
   "outputs": [
    {
     "data": {
      "text/plain": [
       "array([ 2.14037745,  1.2763927 ])"
      ]
     },
     "execution_count": 53,
     "metadata": {},
     "output_type": "execute_result"
    }
   ],
   "source": [
    "w"
   ]
  },
  {
   "cell_type": "code",
   "execution_count": 54,
   "metadata": {},
   "outputs": [
    {
     "data": {
      "text/plain": [
       "-9"
      ]
     },
     "execution_count": 54,
     "metadata": {},
     "output_type": "execute_result"
    }
   ],
   "source": [
    "b"
   ]
  },
  {
   "cell_type": "code",
   "execution_count": null,
   "metadata": {
    "collapsed": true
   },
   "outputs": [],
   "source": []
  }
 ],
 "metadata": {
  "kernelspec": {
   "display_name": "Python 3",
   "language": "python",
   "name": "python3"
  },
  "language_info": {
   "codemirror_mode": {
    "name": "ipython",
    "version": 3
   },
   "file_extension": ".py",
   "mimetype": "text/x-python",
   "name": "python",
   "nbconvert_exporter": "python",
   "pygments_lexer": "ipython3",
   "version": "3.6.1"
  }
 },
 "nbformat": 4,
 "nbformat_minor": 2
}
