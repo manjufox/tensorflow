{
 "cells": [
  {
   "cell_type": "code",
   "execution_count": 18,
   "metadata": {},
   "outputs": [],
   "source": [
    "import numpy as np\n",
    "from keras.models import Sequential\n",
    "from keras.layers import Dense, Activation\n",
    "from keras.optimizers import SGD\n",
    "from sklearn.utils import shuffle"
   ]
  },
  {
   "cell_type": "code",
   "execution_count": 19,
   "metadata": {
    "collapsed": true
   },
   "outputs": [],
   "source": [
    "M = 2 #入力データの次元\n",
    "K = 3 #クラス数\n",
    "n = 100 #クラスごとのデータ数\n",
    "N = n * K #全データ数"
   ]
  },
  {
   "cell_type": "code",
   "execution_count": 20,
   "metadata": {
    "collapsed": true
   },
   "outputs": [],
   "source": [
    "#サンプルデータ生成\n",
    "X1 = np.random.randn(n,M) + np.array([0,10])\n",
    "X2 = np.random.randn(n,M) + np.array([5,5])\n",
    "X3 = np.random.randn(n,M) + np.array([10,0])\n",
    "Y1 = np.array([[1,0,0] for i in range(n)])\n",
    "Y2 = np.array([[0,1,0] for i in range(n)])\n",
    "Y3 = np.array([[0,0,1] for i in range(n)])\n",
    "\n",
    "X = np.concatenate((X1,X2,X3), axis=0)\n",
    "Y = np.concatenate((Y1,Y2,Y3), axis=0)"
   ]
  },
  {
   "cell_type": "code",
   "execution_count": 21,
   "metadata": {},
   "outputs": [],
   "source": [
    "model = Sequential()\n",
    "model.add(Dense(input_dim=M, units=K))\n",
    "model.add(Activation('softmax'))\n",
    "\n",
    "model.compile(loss='categorical_crossentropy', optimizer=SGD(lr=0.1))"
   ]
  },
  {
   "cell_type": "code",
   "execution_count": 23,
   "metadata": {},
   "outputs": [
    {
     "name": "stdout",
     "output_type": "stream",
     "text": [
      "Epoch 1/20\n",
      "300/300 [==============================] - 2s - loss: 1.7332      \n",
      "Epoch 2/20\n",
      "300/300 [==============================] - 0s - loss: 0.2276     \n",
      "Epoch 3/20\n",
      "300/300 [==============================] - 0s - loss: 0.1536     \n",
      "Epoch 4/20\n",
      "300/300 [==============================] - 0s - loss: 0.1153     \n",
      "Epoch 5/20\n",
      "300/300 [==============================] - 0s - loss: 0.0939     \n",
      "Epoch 6/20\n",
      "300/300 [==============================] - 0s - loss: 0.0800     \n",
      "Epoch 7/20\n",
      "300/300 [==============================] - 0s - loss: 0.0695     \n",
      "Epoch 8/20\n",
      "300/300 [==============================] - 0s - loss: 0.0619     \n",
      "Epoch 9/20\n",
      "300/300 [==============================] - 0s - loss: 0.0563     \n",
      "Epoch 10/20\n",
      "300/300 [==============================] - 0s - loss: 0.0513     \n",
      "Epoch 11/20\n",
      "300/300 [==============================] - 0s - loss: 0.0469     \n",
      "Epoch 12/20\n",
      "300/300 [==============================] - 0s - loss: 0.0437     \n",
      "Epoch 13/20\n",
      "300/300 [==============================] - 0s - loss: 0.0408     \n",
      "Epoch 14/20\n",
      "300/300 [==============================] - 0s - loss: 0.0385     \n",
      "Epoch 15/20\n",
      "300/300 [==============================] - 0s - loss: 0.0362     \n",
      "Epoch 16/20\n",
      "300/300 [==============================] - 0s - loss: 0.0343     \n",
      "Epoch 17/20\n",
      "300/300 [==============================] - 0s - loss: 0.0327     \n",
      "Epoch 18/20\n",
      "300/300 [==============================] - 0s - loss: 0.0311     \n",
      "Epoch 19/20\n",
      "300/300 [==============================] - 0s - loss: 0.0296     \n",
      "Epoch 20/20\n",
      "300/300 [==============================] - 0s - loss: 0.0286     \n"
     ]
    },
    {
     "data": {
      "text/plain": [
       "<keras.callbacks.History at 0x24913db2ba8>"
      ]
     },
     "execution_count": 23,
     "metadata": {},
     "output_type": "execute_result"
    }
   ],
   "source": [
    "minibatch_size = 50\n",
    "model.fit(X, Y, epochs=20, batch_size=minibatch_size)"
   ]
  },
  {
   "cell_type": "code",
   "execution_count": 25,
   "metadata": {},
   "outputs": [
    {
     "name": "stdout",
     "output_type": "stream",
     "text": [
      " 1/10 [==>...........................] - ETA: 0s"
     ]
    }
   ],
   "source": [
    "X_,Y_ = shuffle(X, Y)\n",
    "classes = model.predict_classes(X_[0:10], batch_size=1 )\n",
    "prob = model.predict_proba(X_[0:10], batch_size=1 )"
   ]
  },
  {
   "cell_type": "code",
   "execution_count": 27,
   "metadata": {},
   "outputs": [
    {
     "name": "stdout",
     "output_type": "stream",
     "text": [
      "classified:\n",
      "[ True  True  True  True  True  True  True  True  True  True]\n",
      "\n",
      "output probability:\n",
      "[[  1.80859736e-03   9.79868352e-01   1.83230918e-02]\n",
      " [  5.56386084e-08   2.43424959e-02   9.75657463e-01]\n",
      " [  1.71913950e-08   2.10387614e-02   9.78961229e-01]\n",
      " [  1.00903064e-02   9.81853545e-01   8.05616006e-03]\n",
      " [  2.93358262e-08   8.10238253e-03   9.91897583e-01]\n",
      " [  9.97552574e-01   2.44745938e-03   1.97867528e-10]\n",
      " [  3.20919575e-08   1.18640885e-02   9.88135934e-01]\n",
      " [  9.37741280e-01   6.22584112e-02   1.96469941e-07]\n",
      " [  9.95844543e-01   4.15548822e-03   2.66670952e-09]\n",
      " [  9.86437261e-01   1.35627603e-02   1.83588309e-08]]\n"
     ]
    }
   ],
   "source": [
    "print('classified:')\n",
    "print(np.argmax(model.predict(X_[0:10]), axis=1) == classes)\n",
    "print()\n",
    "print('output probability:')\n",
    "print(prob)"
   ]
  },
  {
   "cell_type": "code",
   "execution_count": null,
   "metadata": {
    "collapsed": true
   },
   "outputs": [],
   "source": []
  }
 ],
 "metadata": {
  "kernelspec": {
   "display_name": "Python 3",
   "language": "python",
   "name": "python3"
  },
  "language_info": {
   "codemirror_mode": {
    "name": "ipython",
    "version": 3
   },
   "file_extension": ".py",
   "mimetype": "text/x-python",
   "name": "python",
   "nbconvert_exporter": "python",
   "pygments_lexer": "ipython3",
   "version": "3.6.2"
  }
 },
 "nbformat": 4,
 "nbformat_minor": 2
}
